{
 "cells": [
  {
   "cell_type": "code",
   "execution_count": 1,
   "metadata": {},
   "outputs": [],
   "source": [
    "import pandas as pd\n",
    "import numpy as np\n",
    "import matplotlib.pyplot as plt\n",
    "%matplotlib inline"
   ]
  },
  {
   "cell_type": "code",
   "execution_count": 4,
   "metadata": {},
   "outputs": [],
   "source": [
    "#Reading dataset\n",
    "dataset = pd.read_csv('C:\\\\Users\\\\DELL\\\\Desktop\\\\ASSIGNMENTS\\\\minor-project\\\\data-files\\\\appended_songs.csv')\n",
    "dataset = dataset.drop(dataset.columns[0],axis = 1)"
   ]
  },
  {
   "cell_type": "code",
   "execution_count": 5,
   "metadata": {},
   "outputs": [
    {
     "data": {
      "text/html": [
       "<div>\n",
       "<style scoped>\n",
       "    .dataframe tbody tr th:only-of-type {\n",
       "        vertical-align: middle;\n",
       "    }\n",
       "\n",
       "    .dataframe tbody tr th {\n",
       "        vertical-align: top;\n",
       "    }\n",
       "\n",
       "    .dataframe thead th {\n",
       "        text-align: right;\n",
       "    }\n",
       "</style>\n",
       "<table border=\"1\" class=\"dataframe\">\n",
       "  <thead>\n",
       "    <tr style=\"text-align: right;\">\n",
       "      <th></th>\n",
       "      <th>Title</th>\n",
       "      <th>Artist</th>\n",
       "      <th>Top100</th>\n",
       "      <th>URI</th>\n",
       "      <th>Danceability</th>\n",
       "      <th>Energy</th>\n",
       "      <th>Key</th>\n",
       "      <th>Loudness</th>\n",
       "      <th>Mode</th>\n",
       "      <th>Speechiness</th>\n",
       "      <th>Acousticness</th>\n",
       "      <th>Instrumentalness</th>\n",
       "      <th>Liveness</th>\n",
       "      <th>Valence</th>\n",
       "      <th>Tempo</th>\n",
       "      <th>Duration</th>\n",
       "      <th>Time_Signature</th>\n",
       "    </tr>\n",
       "  </thead>\n",
       "  <tbody>\n",
       "    <tr>\n",
       "      <th>0</th>\n",
       "      <td>Caged Bird</td>\n",
       "      <td>Myles Cameron</td>\n",
       "      <td>0</td>\n",
       "      <td>3MPcfaxPTQPR3w58qaODvX</td>\n",
       "      <td>0.575</td>\n",
       "      <td>0.352</td>\n",
       "      <td>1</td>\n",
       "      <td>-13.813</td>\n",
       "      <td>1</td>\n",
       "      <td>0.0388</td>\n",
       "      <td>0.768</td>\n",
       "      <td>0.485000</td>\n",
       "      <td>0.0974</td>\n",
       "      <td>0.447</td>\n",
       "      <td>100.023</td>\n",
       "      <td>235200</td>\n",
       "      <td>4</td>\n",
       "    </tr>\n",
       "    <tr>\n",
       "      <th>1</th>\n",
       "      <td>More Than Friends</td>\n",
       "      <td>RealLiveAnimals</td>\n",
       "      <td>0</td>\n",
       "      <td>01pmPw3Tfm08YF1rRdTcv6</td>\n",
       "      <td>0.742</td>\n",
       "      <td>0.301</td>\n",
       "      <td>2</td>\n",
       "      <td>-10.652</td>\n",
       "      <td>0</td>\n",
       "      <td>0.0424</td>\n",
       "      <td>0.470</td>\n",
       "      <td>0.000154</td>\n",
       "      <td>0.1080</td>\n",
       "      <td>0.268</td>\n",
       "      <td>116.914</td>\n",
       "      <td>164153</td>\n",
       "      <td>4</td>\n",
       "    </tr>\n",
       "    <tr>\n",
       "      <th>2</th>\n",
       "      <td>Speaking Of</td>\n",
       "      <td>Souly Had</td>\n",
       "      <td>0</td>\n",
       "      <td>3nPxnMPQG3J8ndJqAetZya</td>\n",
       "      <td>0.458</td>\n",
       "      <td>0.502</td>\n",
       "      <td>1</td>\n",
       "      <td>-7.483</td>\n",
       "      <td>1</td>\n",
       "      <td>0.3610</td>\n",
       "      <td>0.479</td>\n",
       "      <td>0.000000</td>\n",
       "      <td>0.1020</td>\n",
       "      <td>0.612</td>\n",
       "      <td>174.098</td>\n",
       "      <td>202248</td>\n",
       "      <td>3</td>\n",
       "    </tr>\n",
       "    <tr>\n",
       "      <th>3</th>\n",
       "      <td>Rarri</td>\n",
       "      <td>Amilli</td>\n",
       "      <td>0</td>\n",
       "      <td>4DU9lFHzSh1M52pZEeBEwb</td>\n",
       "      <td>0.817</td>\n",
       "      <td>0.482</td>\n",
       "      <td>6</td>\n",
       "      <td>-6.715</td>\n",
       "      <td>1</td>\n",
       "      <td>0.0640</td>\n",
       "      <td>0.618</td>\n",
       "      <td>0.000334</td>\n",
       "      <td>0.1610</td>\n",
       "      <td>0.612</td>\n",
       "      <td>95.992</td>\n",
       "      <td>205469</td>\n",
       "      <td>4</td>\n",
       "    </tr>\n",
       "    <tr>\n",
       "      <th>4</th>\n",
       "      <td>Easy Baby</td>\n",
       "      <td>Denyah</td>\n",
       "      <td>0</td>\n",
       "      <td>3hiaRDT2SmsR8aYl93MqgT</td>\n",
       "      <td>0.829</td>\n",
       "      <td>0.408</td>\n",
       "      <td>9</td>\n",
       "      <td>-10.172</td>\n",
       "      <td>1</td>\n",
       "      <td>0.0389</td>\n",
       "      <td>0.769</td>\n",
       "      <td>0.544000</td>\n",
       "      <td>0.1040</td>\n",
       "      <td>0.753</td>\n",
       "      <td>124.983</td>\n",
       "      <td>199900</td>\n",
       "      <td>4</td>\n",
       "    </tr>\n",
       "  </tbody>\n",
       "</table>\n",
       "</div>"
      ],
      "text/plain": [
       "               Title           Artist  Top100                     URI  \\\n",
       "0         Caged Bird    Myles Cameron       0  3MPcfaxPTQPR3w58qaODvX   \n",
       "1  More Than Friends  RealLiveAnimals       0  01pmPw3Tfm08YF1rRdTcv6   \n",
       "2        Speaking Of        Souly Had       0  3nPxnMPQG3J8ndJqAetZya   \n",
       "3              Rarri           Amilli       0  4DU9lFHzSh1M52pZEeBEwb   \n",
       "4          Easy Baby           Denyah       0  3hiaRDT2SmsR8aYl93MqgT   \n",
       "\n",
       "   Danceability  Energy  Key  Loudness  Mode  Speechiness  Acousticness  \\\n",
       "0         0.575   0.352    1   -13.813     1       0.0388         0.768   \n",
       "1         0.742   0.301    2   -10.652     0       0.0424         0.470   \n",
       "2         0.458   0.502    1    -7.483     1       0.3610         0.479   \n",
       "3         0.817   0.482    6    -6.715     1       0.0640         0.618   \n",
       "4         0.829   0.408    9   -10.172     1       0.0389         0.769   \n",
       "\n",
       "   Instrumentalness  Liveness  Valence    Tempo  Duration  Time_Signature  \n",
       "0          0.485000    0.0974    0.447  100.023    235200               4  \n",
       "1          0.000154    0.1080    0.268  116.914    164153               4  \n",
       "2          0.000000    0.1020    0.612  174.098    202248               3  \n",
       "3          0.000334    0.1610    0.612   95.992    205469               4  \n",
       "4          0.544000    0.1040    0.753  124.983    199900               4  "
      ]
     },
     "execution_count": 5,
     "metadata": {},
     "output_type": "execute_result"
    }
   ],
   "source": [
    "dataset.head()"
   ]
  },
  {
   "cell_type": "code",
   "execution_count": 6,
   "metadata": {},
   "outputs": [],
   "source": [
    "#Spilling dataset into features and target variable\n",
    "X = dataset.iloc[:, 4:15].values\n",
    "y = dataset.iloc[:, 2].values"
   ]
  },
  {
   "cell_type": "code",
   "execution_count": 7,
   "metadata": {},
   "outputs": [
    {
     "data": {
      "text/plain": [
       "array([[5.75000e-01, 3.52000e-01, 1.00000e+00, ..., 9.74000e-02,\n",
       "        4.47000e-01, 1.00023e+02],\n",
       "       [7.42000e-01, 3.01000e-01, 2.00000e+00, ..., 1.08000e-01,\n",
       "        2.68000e-01, 1.16914e+02],\n",
       "       [4.58000e-01, 5.02000e-01, 1.00000e+00, ..., 1.02000e-01,\n",
       "        6.12000e-01, 1.74098e+02],\n",
       "       ...,\n",
       "       [6.98000e-01, 2.02000e-01, 1.00000e+00, ..., 1.22000e-01,\n",
       "        1.15000e-01, 1.14975e+02],\n",
       "       [7.29000e-01, 6.88000e-01, 3.00000e+00, ..., 2.95000e-01,\n",
       "        6.71000e-01, 1.23867e+02],\n",
       "       [3.62000e-01, 3.79000e-01, 4.00000e+00, ..., 1.21000e-01,\n",
       "        1.07000e-01, 6.16020e+01]])"
      ]
     },
     "execution_count": 7,
     "metadata": {},
     "output_type": "execute_result"
    }
   ],
   "source": [
    "X"
   ]
  },
  {
   "cell_type": "code",
   "execution_count": 8,
   "metadata": {},
   "outputs": [
    {
     "data": {
      "text/plain": [
       "array([0, 0, 0, ..., 1, 1, 1], dtype=int64)"
      ]
     },
     "execution_count": 8,
     "metadata": {},
     "output_type": "execute_result"
    }
   ],
   "source": [
    "y"
   ]
  },
  {
   "cell_type": "code",
   "execution_count": 9,
   "metadata": {},
   "outputs": [],
   "source": [
    "#Splitting the dataset into train and test\n",
    "from sklearn.model_selection import train_test_split\n",
    "X_train, X_test, y_train, y_test = train_test_split(X, y, test_size = 0.3, random_state = 0)"
   ]
  },
  {
   "cell_type": "code",
   "execution_count": 10,
   "metadata": {},
   "outputs": [],
   "source": [
    "#Performing feature Scaling\n",
    "from sklearn.preprocessing import StandardScaler\n",
    "sc = StandardScaler()\n",
    "X_train = sc.fit_transform(X_train)\n",
    "X_test = sc.transform(X_test)"
   ]
  },
  {
   "cell_type": "code",
   "execution_count": 12,
   "metadata": {},
   "outputs": [
    {
     "data": {
      "text/plain": [
       "LogisticRegression(random_state=0)"
      ]
     },
     "execution_count": 12,
     "metadata": {},
     "output_type": "execute_result"
    }
   ],
   "source": [
    "#Logistic Regression\n",
    "from sklearn.linear_model import LogisticRegression\n",
    "classifierLR = LogisticRegression(random_state = 0)\n",
    "classifierLR.fit(X_train, y_train)"
   ]
  },
  {
   "cell_type": "code",
   "execution_count": 14,
   "metadata": {},
   "outputs": [],
   "source": [
    "from sklearn.model_selection import cross_val_score\n",
    "accuracies = cross_val_score(estimator = classifierLR,X = X_train ,y = y_train, cv = 10)"
   ]
  },
  {
   "cell_type": "code",
   "execution_count": 15,
   "metadata": {},
   "outputs": [
    {
     "data": {
      "text/plain": [
       "0.6583496487389151"
      ]
     },
     "execution_count": 15,
     "metadata": {},
     "output_type": "execute_result"
    }
   ],
   "source": [
    "accuracies.mean()"
   ]
  },
  {
   "cell_type": "code",
   "execution_count": 16,
   "metadata": {},
   "outputs": [
    {
     "data": {
      "text/plain": [
       "0.01409667132414898"
      ]
     },
     "execution_count": 16,
     "metadata": {},
     "output_type": "execute_result"
    }
   ],
   "source": [
    "accuracies.std()"
   ]
  },
  {
   "cell_type": "code",
   "execution_count": 17,
   "metadata": {},
   "outputs": [],
   "source": [
    "y_pred_LR = classifierLR.predict(X_test)"
   ]
  },
  {
   "cell_type": "code",
   "execution_count": 18,
   "metadata": {},
   "outputs": [],
   "source": [
    "from sklearn.metrics import confusion_matrix\n",
    "cm_LR = confusion_matrix(y_test, y_pred_LR)"
   ]
  },
  {
   "cell_type": "code",
   "execution_count": 20,
   "metadata": {},
   "outputs": [
    {
     "data": {
      "text/plain": [
       "<matplotlib.axes._subplots.AxesSubplot at 0x2399cb36c48>"
      ]
     },
     "execution_count": 20,
     "metadata": {},
     "output_type": "execute_result"
    },
    {
     "data": {
      "image/png": "[encoded data removed]",
      "text/plain": [
       "<Figure size 432x288 with 2 Axes>"
      ]
     },
     "metadata": {
      "needs_background": "light"
     },
     "output_type": "display_data"
    }
   ],
   "source": [
    "import seaborn as sns\n",
    "sns.heatmap(cm_LR/np.sum(cm_LR), annot=True, fmt='.2%')"
   ]
  },
  {
   "cell_type": "code",
   "execution_count": 21,
   "metadata": {},
   "outputs": [
    {
     "data": {
      "text/plain": [
       "GaussianNB()"
      ]
     },
     "execution_count": 21,
     "metadata": {},
     "output_type": "execute_result"
    }
   ],
   "source": [
    "#Naive Bayes Classifier\n",
    "from sklearn.naive_bayes import GaussianNB\n",
    "classifierNB = GaussianNB()\n",
    "classifierNB.fit(X_train, y_train)"
   ]
  },
  {
   "cell_type": "code",
   "execution_count": 22,
   "metadata": {},
   "outputs": [],
   "source": [
    "y_pred_NB = classifierNB.predict(X_test)"
   ]
  },
  {
   "cell_type": "code",
   "execution_count": 23,
   "metadata": {},
   "outputs": [],
   "source": [
    "cm_NB = confusion_matrix(y_test, y_pred_NB)"
   ]
  },
  {
   "cell_type": "code",
   "execution_count": 29,
   "metadata": {},
   "outputs": [],
   "source": [
    "accuraciesNB = cross_val_score(estimator = classifierNB,X = X_train ,y = y_train, cv = 10)"
   ]
  },
  {
   "cell_type": "code",
   "execution_count": 30,
   "metadata": {},
   "outputs": [
    {
     "data": {
      "text/plain": [
       "0.5319685976429037"
      ]
     },
     "execution_count": 30,
     "metadata": {},
     "output_type": "execute_result"
    }
   ],
   "source": [
    "accuraciesNB.mean()"
   ]
  },
  {
   "cell_type": "code",
   "execution_count": 31,
   "metadata": {},
   "outputs": [
    {
     "data": {
      "text/plain": [
       "0.024186358712161675"
      ]
     },
     "execution_count": 31,
     "metadata": {},
     "output_type": "execute_result"
    }
   ],
   "source": [
    "accuraciesNB.std()"
   ]
  },
  {
   "cell_type": "code",
   "execution_count": 32,
   "metadata": {},
   "outputs": [
    {
     "data": {
      "text/plain": [
       "<matplotlib.axes._subplots.AxesSubplot at 0x2399ce07048>"
      ]
     },
     "execution_count": 32,
     "metadata": {},
     "output_type": "execute_result"
    },
    {
     "data": {
      "image/png": "[encoded data removed]",
      "text/plain": [
       "<Figure size 432x288 with 2 Axes>"
      ]
     },
     "metadata": {
      "needs_background": "light"
     },
     "output_type": "display_data"
    }
   ],
   "source": [
    "sns.heatmap(cm_NB/np.sum(cm_NB), annot=True, fmt='.2%')"
   ]
  },
  {
   "cell_type": "code",
   "execution_count": 33,
   "metadata": {},
   "outputs": [
    {
     "data": {
      "text/plain": [
       "KNeighborsClassifier()"
      ]
     },
     "execution_count": 33,
     "metadata": {},
     "output_type": "execute_result"
    }
   ],
   "source": [
    "#KNN Classifier\n",
    "from sklearn.neighbors import KNeighborsClassifier\n",
    "classifierKNN = KNeighborsClassifier(n_neighbors = 5, metric = 'minkowski', p = 2)\n",
    "classifierKNN.fit(X_train, y_train)"
   ]
  },
  {
   "cell_type": "code",
   "execution_count": 34,
   "metadata": {},
   "outputs": [],
   "source": [
    "y_pred_KNN = classifierKNN.predict(X_test)"
   ]
  },
  {
   "cell_type": "code",
   "execution_count": 35,
   "metadata": {},
   "outputs": [],
   "source": [
    "accuraciesKNN = cross_val_score(estimator = classifierKNN,X = X_train ,y = y_train, cv = 10)"
   ]
  },
  {
   "cell_type": "code",
   "execution_count": 36,
   "metadata": {},
   "outputs": [
    {
     "data": {
      "text/plain": [
       "0.6296609274828209"
      ]
     },
     "execution_count": 36,
     "metadata": {},
     "output_type": "execute_result"
    }
   ],
   "source": [
    "accuraciesKNN.mean()"
   ]
  },
  {
   "cell_type": "code",
   "execution_count": 37,
   "metadata": {},
   "outputs": [
    {
     "data": {
      "text/plain": [
       "0.01679633778135714"
      ]
     },
     "execution_count": 37,
     "metadata": {},
     "output_type": "execute_result"
    }
   ],
   "source": [
    "accuraciesKNN.std()"
   ]
  },
  {
   "cell_type": "code",
   "execution_count": 38,
   "metadata": {},
   "outputs": [],
   "source": [
    "cm_KNN = confusion_matrix(y_test, y_pred_KNN)"
   ]
  },
  {
   "cell_type": "code",
   "execution_count": 39,
   "metadata": {},
   "outputs": [
    {
     "data": {
      "text/plain": [
       "<matplotlib.axes._subplots.AxesSubplot at 0x2399cecc708>"
      ]
     },
     "execution_count": 39,
     "metadata": {},
     "output_type": "execute_result"
    },
    {
     "data": {
      "image/png": "[encoded data removed]",
      "text/plain": [
       "<Figure size 432x288 with 2 Axes>"
      ]
     },
     "metadata": {
      "needs_background": "light"
     },
     "output_type": "display_data"
    }
   ],
   "source": [
    "sns.heatmap(cm_KNN/np.sum(cm_KNN), annot=True, fmt='.2%')"
   ]
  },
  {
   "cell_type": "code",
   "execution_count": 40,
   "metadata": {},
   "outputs": [
    {
     "data": {
      "text/plain": [
       "DecisionTreeClassifier(criterion='entropy', random_state=0)"
      ]
     },
     "execution_count": 40,
     "metadata": {},
     "output_type": "execute_result"
    }
   ],
   "source": [
    "#Decesion Tree Classification\n",
    "from sklearn.tree import DecisionTreeClassifier\n",
    "classifierDT = DecisionTreeClassifier(criterion = 'entropy', random_state = 0)\n",
    "classifierDT.fit(X_train, y_train)"
   ]
  },
  {
   "cell_type": "code",
   "execution_count": 41,
   "metadata": {},
   "outputs": [],
   "source": [
    "y_pred_DT = classifierDT.predict(X_test)"
   ]
  },
  {
   "cell_type": "code",
   "execution_count": 42,
   "metadata": {},
   "outputs": [],
   "source": [
    "accuraciesDT = cross_val_score(estimator = classifierDT,X = X_train ,y = y_train, cv = 10)"
   ]
  },
  {
   "cell_type": "code",
   "execution_count": 43,
   "metadata": {},
   "outputs": [
    {
     "data": {
      "text/plain": [
       "0.6270269492111022"
      ]
     },
     "execution_count": 43,
     "metadata": {},
     "output_type": "execute_result"
    }
   ],
   "source": [
    "accuraciesDT.mean()"
   ]
  },
  {
   "cell_type": "code",
   "execution_count": 44,
   "metadata": {},
   "outputs": [
    {
     "data": {
      "text/plain": [
       "0.019938334557703608"
      ]
     },
     "execution_count": 44,
     "metadata": {},
     "output_type": "execute_result"
    }
   ],
   "source": [
    "accuraciesDT .std()"
   ]
  },
  {
   "cell_type": "code",
   "execution_count": 46,
   "metadata": {},
   "outputs": [],
   "source": [
    "cm_DT = confusion_matrix(y_test, y_pred_DT)"
   ]
  },
  {
   "cell_type": "code",
   "execution_count": 47,
   "metadata": {},
   "outputs": [
    {
     "data": {
      "text/plain": [
       "<matplotlib.axes._subplots.AxesSubplot at 0x2399cf8ce48>"
      ]
     },
     "execution_count": 47,
     "metadata": {},
     "output_type": "execute_result"
    },
    {
     "data": {
      "image/png": "[encoded data removed]",
      "text/plain": [
       "<Figure size 432x288 with 2 Axes>"
      ]
     },
     "metadata": {
      "needs_background": "light"
     },
     "output_type": "display_data"
    }
   ],
   "source": [
    "sns.heatmap(cm_KNN/np.sum(cm_KNN), annot=True, fmt='.2%')"
   ]
  },
  {
   "cell_type": "code",
   "execution_count": 48,
   "metadata": {},
   "outputs": [
    {
     "data": {
      "text/plain": [
       "RandomForestClassifier(criterion='entropy', n_estimators=10, random_state=0)"
      ]
     },
     "execution_count": 48,
     "metadata": {},
     "output_type": "execute_result"
    }
   ],
   "source": [
    "from sklearn.ensemble import RandomForestClassifier\n",
    "classifierRF = RandomForestClassifier(n_estimators = 10, criterion = 'entropy', random_state = 0)\n",
    "classifierRF.fit(X_train, y_train)"
   ]
  },
  {
   "cell_type": "code",
   "execution_count": 49,
   "metadata": {},
   "outputs": [],
   "source": [
    "y_pred_RF = classifierRF.predict(X_test)"
   ]
  },
  {
   "cell_type": "code",
   "execution_count": 50,
   "metadata": {},
   "outputs": [],
   "source": [
    "accuraciesRF = cross_val_score(estimator = classifierRF,X = X_train ,y = y_train, cv = 10)"
   ]
  },
  {
   "cell_type": "code",
   "execution_count": 51,
   "metadata": {},
   "outputs": [
    {
     "data": {
      "text/plain": [
       "0.6728070175438596"
      ]
     },
     "execution_count": 51,
     "metadata": {},
     "output_type": "execute_result"
    }
   ],
   "source": [
    "accuraciesRF.mean()"
   ]
  },
  {
   "cell_type": "code",
   "execution_count": 52,
   "metadata": {},
   "outputs": [
    {
     "data": {
      "text/plain": [
       "0.022186100466937583"
      ]
     },
     "execution_count": 52,
     "metadata": {},
     "output_type": "execute_result"
    }
   ],
   "source": [
    "accuraciesRF.std()"
   ]
  },
  {
   "cell_type": "code",
   "execution_count": 53,
   "metadata": {},
   "outputs": [],
   "source": [
    "cm_RF = confusion_matrix(y_test, y_pred_RF)"
   ]
  },
  {
   "cell_type": "code",
   "execution_count": 54,
   "metadata": {},
   "outputs": [
    {
     "data": {
      "text/plain": [
       "<matplotlib.axes._subplots.AxesSubplot at 0x2399d122888>"
      ]
     },
     "execution_count": 54,
     "metadata": {},
     "output_type": "execute_result"
    },
    {
     "data": {
      "image/png": "[encoded data removed]",
      "text/plain": [
       "<Figure size 432x288 with 2 Axes>"
      ]
     },
     "metadata": {
      "needs_background": "light"
     },
     "output_type": "display_data"
    }
   ],
   "source": [
    "sns.heatmap(cm_RF/np.sum(cm_RF), annot=True, fmt='.2%')"
   ]
  },
  {
   "cell_type": "code",
   "execution_count": 55,
   "metadata": {},
   "outputs": [
    {
     "data": {
      "text/plain": [
       "SVC(kernel='linear', random_state=0)"
      ]
     },
     "execution_count": 55,
     "metadata": {},
     "output_type": "execute_result"
    }
   ],
   "source": [
    "from sklearn.svm import SVC\n",
    "classifierSVM = SVC(kernel = 'linear', random_state = 0)\n",
    "classifierSVM.fit(X_train, y_train)"
   ]
  },
  {
   "cell_type": "code",
   "execution_count": 56,
   "metadata": {},
   "outputs": [],
   "source": [
    "y_pred_SVM = classifierSVM.predict(X_test)"
   ]
  },
  {
   "cell_type": "code",
   "execution_count": 57,
   "metadata": {},
   "outputs": [],
   "source": [
    "accuraciesSVM = cross_val_score(estimator = classifierSVM,X = X_train ,y = y_train, cv = 10)"
   ]
  },
  {
   "cell_type": "code",
   "execution_count": 58,
   "metadata": {},
   "outputs": [
    {
     "data": {
      "text/plain": [
       "0.6395101539406504"
      ]
     },
     "execution_count": 58,
     "metadata": {},
     "output_type": "execute_result"
    }
   ],
   "source": [
    "accuraciesSVM.mean()"
   ]
  },
  {
   "cell_type": "code",
   "execution_count": 59,
   "metadata": {},
   "outputs": [
    {
     "data": {
      "text/plain": [
       "0.0006864476610356235"
      ]
     },
     "execution_count": 59,
     "metadata": {},
     "output_type": "execute_result"
    }
   ],
   "source": [
    "accuraciesSVM.std()"
   ]
  },
  {
   "cell_type": "code",
   "execution_count": 60,
   "metadata": {},
   "outputs": [],
   "source": [
    "cm_SVM = confusion_matrix(y_test, y_pred_SVM)"
   ]
  },
  {
   "cell_type": "code",
   "execution_count": 61,
   "metadata": {},
   "outputs": [
    {
     "data": {
      "text/plain": [
       "<matplotlib.axes._subplots.AxesSubplot at 0x2399d1c6ac8>"
      ]
     },
     "execution_count": 61,
     "metadata": {},
     "output_type": "execute_result"
    },
    {
     "data": {
      "image/png": "[encoded data removed]",
      "text/plain": [
       "<Figure size 432x288 with 2 Axes>"
      ]
     },
     "metadata": {
      "needs_background": "light"
     },
     "output_type": "display_data"
    }
   ],
   "source": [
    "sns.heatmap(cm_SVM/np.sum(cm_SVM), annot=True, fmt='.2%')"
   ]
  },
  {
   "cell_type": "code",
   "execution_count": 62,
   "metadata": {},
   "outputs": [],
   "source": [
    "#ANN\n",
    "import keras\n",
    "from keras.models import Sequential\n",
    "from keras.layers import Dense\n",
    "classifierANN = Sequential()\n",
    "\n",
    "classifierANN.add(Dense(6,input_dim = 11,activation = 'relu' ))\n",
    "classifierANN.add(Dense(6,activation = 'relu'))\n",
    "classifierANN.add(Dense(1,activation = 'sigmoid'))"
   ]
  },
  {
   "cell_type": "code",
   "execution_count": 63,
   "metadata": {},
   "outputs": [],
   "source": [
    "classifierANN.compile(loss='binary_crossentropy', optimizer='adam', metrics=['accuracy'])"
   ]
  },
  {
   "cell_type": "code",
   "execution_count": 64,
   "metadata": {},
   "outputs": [
    {
     "name": "stdout",
     "output_type": "stream",
     "text": [
      "Epoch 1/100\n",
      "72/72 [==============================] - 0s 5ms/step - loss: 0.6534 - accuracy: 0.6196\n",
      "Epoch 2/100\n",
      "72/72 [==============================] - 0s 2ms/step - loss: 0.6337 - accuracy: 0.6380\n",
      "Epoch 3/100\n",
      "72/72 [==============================] - 0s 4ms/step - loss: 0.6241 - accuracy: 0.6395\n",
      "Epoch 4/100\n",
      "72/72 [==============================] - 0s 4ms/step - loss: 0.6184 - accuracy: 0.6395\n",
      "Epoch 5/100\n",
      "72/72 [==============================] - 0s 5ms/step - loss: 0.6143 - accuracy: 0.6395\n",
      "Epoch 6/100\n",
      "72/72 [==============================] - 0s 3ms/step - loss: 0.6111 - accuracy: 0.6395\n",
      "Epoch 7/100\n",
      "72/72 [==============================] - 0s 4ms/step - loss: 0.6083 - accuracy: 0.6395\n",
      "Epoch 8/100\n",
      "72/72 [==============================] - 0s 4ms/step - loss: 0.6060 - accuracy: 0.6395\n",
      "Epoch 9/100\n",
      "72/72 [==============================] - 0s 4ms/step - loss: 0.6037 - accuracy: 0.6395\n",
      "Epoch 10/100\n",
      "72/72 [==============================] - 0s 3ms/step - loss: 0.6015 - accuracy: 0.6404\n",
      "Epoch 11/100\n",
      "72/72 [==============================] - 0s 3ms/step - loss: 0.5994 - accuracy: 0.6426\n",
      "Epoch 12/100\n",
      "72/72 [==============================] - 0s 3ms/step - loss: 0.5972 - accuracy: 0.6470\n",
      "Epoch 13/100\n",
      "72/72 [==============================] - 0s 3ms/step - loss: 0.5953 - accuracy: 0.6579\n",
      "Epoch 14/100\n",
      "72/72 [==============================] - 0s 5ms/step - loss: 0.5935 - accuracy: 0.6605: 0s - loss: 0.5959 - accuracy: 0.\n",
      "Epoch 15/100\n",
      "72/72 [==============================] - ETA: 0s - loss: 0.5904 - accuracy: 0.66 - 0s 3ms/step - loss: 0.5917 - accuracy: 0.6651\n",
      "Epoch 16/100\n",
      "72/72 [==============================] - 0s 2ms/step - loss: 0.5901 - accuracy: 0.6715\n",
      "Epoch 17/100\n",
      "72/72 [==============================] - 0s 2ms/step - loss: 0.5887 - accuracy: 0.6717\n",
      "Epoch 18/100\n",
      "72/72 [==============================] - 0s 3ms/step - loss: 0.5871 - accuracy: 0.6822\n",
      "Epoch 19/100\n",
      "72/72 [==============================] - 0s 4ms/step - loss: 0.5856 - accuracy: 0.6787\n",
      "Epoch 20/100\n",
      "72/72 [==============================] - 0s 3ms/step - loss: 0.5845 - accuracy: 0.6818\n",
      "Epoch 21/100\n",
      "72/72 [==============================] - 0s 5ms/step - loss: 0.5833 - accuracy: 0.6794\n",
      "Epoch 22/100\n",
      "72/72 [==============================] - 0s 5ms/step - loss: 0.5823 - accuracy: 0.6787\n",
      "Epoch 23/100\n",
      "72/72 [==============================] - 0s 4ms/step - loss: 0.5817 - accuracy: 0.6792\n",
      "Epoch 24/100\n",
      "72/72 [==============================] - 0s 3ms/step - loss: 0.5809 - accuracy: 0.6837\n",
      "Epoch 25/100\n",
      "72/72 [==============================] - 0s 4ms/step - loss: 0.5801 - accuracy: 0.6794\n",
      "Epoch 26/100\n",
      "72/72 [==============================] - 0s 3ms/step - loss: 0.5796 - accuracy: 0.6809\n",
      "Epoch 27/100\n",
      "72/72 [==============================] - 0s 4ms/step - loss: 0.5791 - accuracy: 0.6776\n",
      "Epoch 28/100\n",
      "72/72 [==============================] - 0s 3ms/step - loss: 0.5785 - accuracy: 0.6774\n",
      "Epoch 29/100\n",
      "72/72 [==============================] - 0s 4ms/step - loss: 0.5780 - accuracy: 0.6824\n",
      "Epoch 30/100\n",
      "72/72 [==============================] - 0s 4ms/step - loss: 0.5779 - accuracy: 0.6783\n",
      "Epoch 31/100\n",
      "72/72 [==============================] - 0s 4ms/step - loss: 0.5771 - accuracy: 0.6833\n",
      "Epoch 32/100\n",
      "72/72 [==============================] - 0s 3ms/step - loss: 0.5768 - accuracy: 0.6833\n",
      "Epoch 33/100\n",
      "72/72 [==============================] - 0s 2ms/step - loss: 0.5763 - accuracy: 0.6824\n",
      "Epoch 34/100\n",
      "72/72 [==============================] - 0s 4ms/step - loss: 0.5755 - accuracy: 0.6833\n",
      "Epoch 35/100\n",
      "72/72 [==============================] - 0s 3ms/step - loss: 0.5751 - accuracy: 0.6844\n",
      "Epoch 36/100\n",
      "72/72 [==============================] - 0s 3ms/step - loss: 0.5745 - accuracy: 0.6851\n",
      "Epoch 37/100\n",
      "72/72 [==============================] - 0s 2ms/step - loss: 0.5741 - accuracy: 0.6837\n",
      "Epoch 38/100\n",
      "72/72 [==============================] - 0s 3ms/step - loss: 0.5732 - accuracy: 0.6837\n",
      "Epoch 39/100\n",
      "72/72 [==============================] - 0s 2ms/step - loss: 0.5731 - accuracy: 0.6820\n",
      "Epoch 40/100\n",
      "72/72 [==============================] - 0s 4ms/step - loss: 0.5725 - accuracy: 0.6842: 0s - loss: 0.5723 - accuracy: 0.\n",
      "Epoch 41/100\n",
      "72/72 [==============================] - 0s 4ms/step - loss: 0.5720 - accuracy: 0.6833\n",
      "Epoch 42/100\n",
      "72/72 [==============================] - 0s 2ms/step - loss: 0.5716 - accuracy: 0.6864\n",
      "Epoch 43/100\n",
      "72/72 [==============================] - 0s 4ms/step - loss: 0.5711 - accuracy: 0.6855\n",
      "Epoch 44/100\n",
      "72/72 [==============================] - 0s 4ms/step - loss: 0.5710 - accuracy: 0.6875\n",
      "Epoch 45/100\n",
      "72/72 [==============================] - 0s 4ms/step - loss: 0.5706 - accuracy: 0.6842\n",
      "Epoch 46/100\n",
      "72/72 [==============================] - 0s 3ms/step - loss: 0.5702 - accuracy: 0.6892\n",
      "Epoch 47/100\n",
      "72/72 [==============================] - 0s 3ms/step - loss: 0.5698 - accuracy: 0.6875\n",
      "Epoch 48/100\n",
      "72/72 [==============================] - 0s 3ms/step - loss: 0.5696 - accuracy: 0.6888\n",
      "Epoch 49/100\n",
      "72/72 [==============================] - 0s 4ms/step - loss: 0.5694 - accuracy: 0.6879\n",
      "Epoch 50/100\n",
      "72/72 [==============================] - 0s 3ms/step - loss: 0.5692 - accuracy: 0.6886\n",
      "Epoch 51/100\n",
      "72/72 [==============================] - 0s 2ms/step - loss: 0.5687 - accuracy: 0.6910\n",
      "Epoch 52/100\n",
      "72/72 [==============================] - 0s 3ms/step - loss: 0.5687 - accuracy: 0.6892\n",
      "Epoch 53/100\n",
      "72/72 [==============================] - 0s 4ms/step - loss: 0.5684 - accuracy: 0.6910\n",
      "Epoch 54/100\n",
      "72/72 [==============================] - 0s 5ms/step - loss: 0.5683 - accuracy: 0.6892\n",
      "Epoch 55/100\n",
      "72/72 [==============================] - 0s 2ms/step - loss: 0.5677 - accuracy: 0.6916\n",
      "Epoch 56/100\n",
      "72/72 [==============================] - 0s 4ms/step - loss: 0.5676 - accuracy: 0.6910\n",
      "Epoch 57/100\n",
      "72/72 [==============================] - 0s 2ms/step - loss: 0.5674 - accuracy: 0.6925\n",
      "Epoch 58/100\n",
      "72/72 [==============================] - 0s 3ms/step - loss: 0.5674 - accuracy: 0.6901\n",
      "Epoch 59/100\n",
      "72/72 [==============================] - 0s 2ms/step - loss: 0.5670 - accuracy: 0.6910\n",
      "Epoch 60/100\n",
      "72/72 [==============================] - 0s 2ms/step - loss: 0.5669 - accuracy: 0.6919\n",
      "Epoch 61/100\n",
      "72/72 [==============================] - 0s 4ms/step - loss: 0.5667 - accuracy: 0.6908\n",
      "Epoch 62/100\n",
      "72/72 [==============================] - 0s 3ms/step - loss: 0.5666 - accuracy: 0.6916\n",
      "Epoch 63/100\n",
      "72/72 [==============================] - 0s 4ms/step - loss: 0.5663 - accuracy: 0.6934\n",
      "Epoch 64/100\n",
      "72/72 [==============================] - 0s 4ms/step - loss: 0.5661 - accuracy: 0.6916\n",
      "Epoch 65/100\n",
      "72/72 [==============================] - 0s 2ms/step - loss: 0.5657 - accuracy: 0.6921\n",
      "Epoch 66/100\n",
      "72/72 [==============================] - 0s 3ms/step - loss: 0.5656 - accuracy: 0.6947\n",
      "Epoch 67/100\n",
      "72/72 [==============================] - 0s 4ms/step - loss: 0.5657 - accuracy: 0.6923\n",
      "Epoch 68/100\n",
      "72/72 [==============================] - 0s 4ms/step - loss: 0.5655 - accuracy: 0.6934\n",
      "Epoch 69/100\n",
      "72/72 [==============================] - 0s 5ms/step - loss: 0.5651 - accuracy: 0.6934\n",
      "Epoch 70/100\n",
      "72/72 [==============================] - 0s 4ms/step - loss: 0.5653 - accuracy: 0.6923\n",
      "Epoch 71/100\n",
      "72/72 [==============================] - 0s 4ms/step - loss: 0.5650 - accuracy: 0.6934\n",
      "Epoch 72/100\n",
      "72/72 [==============================] - 0s 4ms/step - loss: 0.5648 - accuracy: 0.6960\n",
      "Epoch 73/100\n",
      "72/72 [==============================] - 0s 3ms/step - loss: 0.5647 - accuracy: 0.6943\n",
      "Epoch 74/100\n",
      "72/72 [==============================] - 0s 4ms/step - loss: 0.5645 - accuracy: 0.6947\n",
      "Epoch 75/100\n",
      "72/72 [==============================] - 0s 4ms/step - loss: 0.5643 - accuracy: 0.6954\n",
      "Epoch 76/100\n",
      "72/72 [==============================] - 0s 4ms/step - loss: 0.5641 - accuracy: 0.6960\n",
      "Epoch 77/100\n",
      "72/72 [==============================] - 0s 2ms/step - loss: 0.5641 - accuracy: 0.6973\n",
      "Epoch 78/100\n",
      "72/72 [==============================] - 0s 4ms/step - loss: 0.5640 - accuracy: 0.6962\n",
      "Epoch 79/100\n",
      "72/72 [==============================] - 0s 4ms/step - loss: 0.5640 - accuracy: 0.6965\n",
      "Epoch 80/100\n",
      "72/72 [==============================] - 0s 4ms/step - loss: 0.5639 - accuracy: 0.6945\n",
      "Epoch 81/100\n"
     ]
    },
    {
     "name": "stdout",
     "output_type": "stream",
     "text": [
      "72/72 [==============================] - 0s 3ms/step - loss: 0.5637 - accuracy: 0.6969\n",
      "Epoch 82/100\n",
      "72/72 [==============================] - 0s 4ms/step - loss: 0.5634 - accuracy: 0.6965\n",
      "Epoch 83/100\n",
      "72/72 [==============================] - 0s 4ms/step - loss: 0.5635 - accuracy: 0.6975\n",
      "Epoch 84/100\n",
      "72/72 [==============================] - 0s 4ms/step - loss: 0.5634 - accuracy: 0.6962\n",
      "Epoch 85/100\n",
      "72/72 [==============================] - 0s 3ms/step - loss: 0.5634 - accuracy: 0.6954\n",
      "Epoch 86/100\n",
      "72/72 [==============================] - 0s 4ms/step - loss: 0.5632 - accuracy: 0.6986\n",
      "Epoch 87/100\n",
      "72/72 [==============================] - 0s 4ms/step - loss: 0.5631 - accuracy: 0.6971\n",
      "Epoch 88/100\n",
      "72/72 [==============================] - 0s 4ms/step - loss: 0.5630 - accuracy: 0.6949\n",
      "Epoch 89/100\n",
      "72/72 [==============================] - 0s 4ms/step - loss: 0.5629 - accuracy: 0.6960\n",
      "Epoch 90/100\n",
      "72/72 [==============================] - ETA: 0s - loss: 0.5645 - accuracy: 0.69 - 0s 4ms/step - loss: 0.5630 - accuracy: 0.6984\n",
      "Epoch 91/100\n",
      "72/72 [==============================] - 0s 4ms/step - loss: 0.5627 - accuracy: 0.6971\n",
      "Epoch 92/100\n",
      "72/72 [==============================] - 0s 4ms/step - loss: 0.5626 - accuracy: 0.6967\n",
      "Epoch 93/100\n",
      "72/72 [==============================] - 0s 4ms/step - loss: 0.5624 - accuracy: 0.6967\n",
      "Epoch 94/100\n",
      "72/72 [==============================] - 0s 4ms/step - loss: 0.5624 - accuracy: 0.6971\n",
      "Epoch 95/100\n",
      "72/72 [==============================] - 0s 4ms/step - loss: 0.5622 - accuracy: 0.6965\n",
      "Epoch 96/100\n",
      "72/72 [==============================] - 0s 4ms/step - loss: 0.5623 - accuracy: 0.6975\n",
      "Epoch 97/100\n",
      "72/72 [==============================] - 0s 3ms/step - loss: 0.5623 - accuracy: 0.6991\n",
      "Epoch 98/100\n",
      "72/72 [==============================] - 0s 4ms/step - loss: 0.5620 - accuracy: 0.6982\n",
      "Epoch 99/100\n",
      "72/72 [==============================] - 0s 4ms/step - loss: 0.5618 - accuracy: 0.6982\n",
      "Epoch 100/100\n",
      "72/72 [==============================] - 0s 5ms/step - loss: 0.5619 - accuracy: 0.7008\n"
     ]
    }
   ],
   "source": [
    "history = classifierANN.fit(X_train, y_train, epochs=100, batch_size=64)"
   ]
  },
  {
   "cell_type": "code",
   "execution_count": 66,
   "metadata": {},
   "outputs": [],
   "source": [
    "y_pred_ANN = classifierANN.predict(X_test)\n",
    "y_pred_ANN = (y_pred_ANN > 0.5)"
   ]
  },
  {
   "cell_type": "code",
   "execution_count": 67,
   "metadata": {},
   "outputs": [],
   "source": [
    "cm_ANN = confusion_matrix(y_test, y_pred_ANN)"
   ]
  },
  {
   "cell_type": "code",
   "execution_count": 68,
   "metadata": {},
   "outputs": [
    {
     "data": {
      "text/plain": [
       "<matplotlib.axes._subplots.AxesSubplot at 0x239a4ba8808>"
      ]
     },
     "execution_count": 68,
     "metadata": {},
     "output_type": "execute_result"
    },
    {
     "data": {
      "image/png": "[encoded data removed]",
      "text/plain": [
       "<Figure size 432x288 with 2 Axes>"
      ]
     },
     "metadata": {
      "needs_background": "light"
     },
     "output_type": "display_data"
    }
   ],
   "source": [
    "sns.heatmap(cm_ANN/np.sum(cm_ANN), annot=True, fmt='.2%')"
   ]
  },
  {
   "cell_type": "code",
   "execution_count": null,
   "metadata": {},
   "outputs": [],
   "source": []
  }
 ],
 "metadata": {
  "kernelspec": {
   "display_name": "Python 3",
   "language": "python",
   "name": "python3"
  },
  "language_info": {
   "codemirror_mode": {
    "name": "ipython",
    "version": 3
   },
   "file_extension": ".py",
   "mimetype": "text/x-python",
   "name": "python",
   "nbconvert_exporter": "python",
   "pygments_lexer": "ipython3",
   "version": "3.7.6"
  }
 },
 "nbformat": 4,
 "nbformat_minor": 4
}
